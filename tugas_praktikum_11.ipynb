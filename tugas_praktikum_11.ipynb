{
  "nbformat": 4,
  "nbformat_minor": 0,
  "metadata": {
    "colab": {
      "provenance": []
    },
    "kernelspec": {
      "name": "python3",
      "display_name": "Python 3"
    },
    "language_info": {
      "name": "python"
    }
  },
  "cells": [
    {
      "cell_type": "code",
      "execution_count": null,
      "metadata": {
        "id": "ineOdvcwEwFn"
      },
      "outputs": [],
      "source": [
        "import pandas as pd\n",
        "import numpy as np\n",
        "import matplotlib.pyplot as plt\n",
        "import statsmodels.api as sm"
      ]
    },
    {
      "cell_type": "code",
      "source": [
        "# Membuat dataset sintesis untuk harga rumah\n",
        "np.random.seed(42)\n",
        "n_samples = 100"
      ],
      "metadata": {
        "id": "6NMk0D83FBhs"
      },
      "execution_count": null,
      "outputs": []
    },
    {
      "cell_type": "code",
      "source": [
        "# Membuat data training\n",
        "data_training = {\n",
        "    'LuasBangunan': np.random.normal(120, 30, n_samples),\n",
        "    'JumlahKamar': np.random.randint(2, 6, n_samples),\n",
        "    'Harga': None\n",
        "}"
      ],
      "metadata": {
        "id": "Kd8mKmSTFDtT"
      },
      "execution_count": null,
      "outputs": []
    },
    {
      "cell_type": "code",
      "source": [
        "# Membuat hubungan linear dengan noise\n",
        "data_training['Harga'] = (\n",
        "    2000 * data_training['LuasBangunan'] +\n",
        "    50000 * data_training['JumlahKamar'] +\n",
        "    np.random.normal(0, 50000, n_samples)\n",
        ")"
      ],
      "metadata": {
        "id": "9VwXb-ZiFHVk"
      },
      "execution_count": null,
      "outputs": []
    },
    {
      "cell_type": "code",
      "source": [
        "# Membuat DataFrame training\n",
        "df = pd.DataFrame(data_training)\n",
        "df.to_csv('dataset_rumah_training.csv', index=False)"
      ],
      "metadata": {
        "id": "CsS3RhGkFJKr"
      },
      "execution_count": null,
      "outputs": []
    },
    {
      "cell_type": "code",
      "source": [
        "# Membuat data testing (20 sampel)\n",
        "n_test = 20\n",
        "data_testing = {\n",
        "    'Nama': [f'Rumah_{i+1}' for i in range(n_test)],\n",
        "    'LuasBangunan': np.random.normal(120, 30, n_test),\n",
        "    'JumlahKamar': np.random.randint(2, 6, n_test),\n",
        "    'Harga': None\n",
        "}"
      ],
      "metadata": {
        "id": "telpJNofFKo_"
      },
      "execution_count": null,
      "outputs": []
    },
    {
      "cell_type": "code",
      "source": [
        "data_testing['Harga'] = (\n",
        "    2000 * data_testing['LuasBangunan'] +\n",
        "    50000 * data_testing['JumlahKamar'] +\n",
        "    np.random.normal(0, 50000, n_test)\n",
        ")"
      ],
      "metadata": {
        "id": "YnruPKt9FNIB"
      },
      "execution_count": null,
      "outputs": []
    },
    {
      "cell_type": "code",
      "source": [
        "# Membuat DataFrame testing\n",
        "df1 = pd.DataFrame(data_testing)\n",
        "df1.to_csv('dataset_rumah_testing.csv', index=False)"
      ],
      "metadata": {
        "id": "22nSYHTfFON7"
      },
      "execution_count": null,
      "outputs": []
    },
    {
      "cell_type": "code",
      "source": [
        "# Membaca data training\n",
        "df = pd.read_csv('dataset_rumah_training.csv')"
      ],
      "metadata": {
        "id": "eSqKYu-nFPb4"
      },
      "execution_count": null,
      "outputs": []
    },
    {
      "cell_type": "code",
      "source": [
        "# Melakukan regresi OLS\n",
        "X = df[[\"LuasBangunan\", \"JumlahKamar\"]].to_numpy()\n",
        "y = df[\"Harga\"].to_numpy()\n",
        "X = sm.add_constant(X)\n",
        "model_prediksi = sm.OLS(y, X).fit()\n",
        "print(model_prediksi.summary())"
      ],
      "metadata": {
        "colab": {
          "base_uri": "https://localhost:8080/"
        },
        "id": "mg-U-QS4FQmC",
        "outputId": "9083c3ee-d23f-4e58-fc06-3da9a8cc344d"
      },
      "execution_count": null,
      "outputs": [
        {
          "output_type": "stream",
          "name": "stdout",
          "text": [
            "                            OLS Regression Results                            \n",
            "==============================================================================\n",
            "Dep. Variable:                      y   R-squared:                       0.736\n",
            "Model:                            OLS   Adj. R-squared:                  0.730\n",
            "Method:                 Least Squares   F-statistic:                     135.0\n",
            "Date:                Fri, 10 Jan 2025   Prob (F-statistic):           9.41e-29\n",
            "Time:                        23:56:22   Log-Likelihood:                -1221.7\n",
            "No. Observations:                 100   AIC:                             2449.\n",
            "Df Residuals:                      97   BIC:                             2457.\n",
            "Df Model:                           2                                         \n",
            "Covariance Type:            nonrobust                                         \n",
            "==============================================================================\n",
            "                 coef    std err          t      P>|t|      [0.025      0.975]\n",
            "------------------------------------------------------------------------------\n",
            "const      -5891.6755   2.67e+04     -0.221      0.826   -5.88e+04     4.7e+04\n",
            "x1          2170.6680    183.436     11.833      0.000    1806.598    2534.738\n",
            "x2          4.769e+04   4343.984     10.979      0.000    3.91e+04    5.63e+04\n",
            "==============================================================================\n",
            "Omnibus:                        7.854   Durbin-Watson:                   2.034\n",
            "Prob(Omnibus):                  0.020   Jarque-Bera (JB):                8.131\n",
            "Skew:                           0.502   Prob(JB):                       0.0172\n",
            "Kurtosis:                       3.971   Cond. No.                         647.\n",
            "==============================================================================\n",
            "\n",
            "Notes:\n",
            "[1] Standard Errors assume that the covariance matrix of the errors is correctly specified.\n"
          ]
        }
      ]
    },
    {
      "cell_type": "code",
      "source": [
        "# Membaca data testing\n",
        "df1 = pd.read_csv('dataset_rumah_testing.csv')\n",
        "X_test = df1[[\"LuasBangunan\", \"JumlahKamar\"]].to_numpy()\n",
        "y_real = df1[\"Harga\"].to_numpy()\n",
        "y_nama = df1[\"Nama\"].to_numpy()\n",
        "X_test = sm.add_constant(X_test)\n",
        "y_pred = model_prediksi.predict(X_test)"
      ],
      "metadata": {
        "id": "9JV1gEkgFRp_"
      },
      "execution_count": null,
      "outputs": []
    },
    {
      "cell_type": "code",
      "source": [
        "# Membuat DataFrame hasil prediksi\n",
        "hasil_prediksi = pd.DataFrame()\n",
        "hasil_prediksi[\"Nama Properti\"] = y_nama\n",
        "hasil_prediksi[\"Harga Real\"] = y_real\n",
        "hasil_prediksi[\"Harga Prediksi\"] = y_pred\n",
        "hasil_prediksi[\"ERROR\"] = hasil_prediksi[\"Harga Real\"] - hasil_prediksi[\"Harga Prediksi\"]\n",
        "hasil_prediksi[\"PERSEN PREDIKSI\"] = 1.0 - (abs(hasil_prediksi[\"ERROR\"])/hasil_prediksi[\"Harga Real\"])\n",
        "hasil_prediksi[\"PERSEN\"] = hasil_prediksi[\"PERSEN PREDIKSI\"] * 100"
      ],
      "metadata": {
        "id": "U_phA-blFTfb"
      },
      "execution_count": null,
      "outputs": []
    },
    {
      "cell_type": "code",
      "source": [
        "# Menyimpan hasil prediksi\n",
        "hasil_prediksi.to_csv('hasil_prediksi_rumah.csv')"
      ],
      "metadata": {
        "id": "OFgcI9gGFVN9"
      },
      "execution_count": null,
      "outputs": []
    },
    {
      "cell_type": "code",
      "source": [
        "# Visualisasi hasil\n",
        "plt.figure(figsize=(12, 6))\n",
        "x = range(len(hasil_prediksi))\n",
        "plt.plot(x, hasil_prediksi[\"Harga Real\"], label=\"Harga Aktual\", color=\"b\")\n",
        "plt.plot(x, hasil_prediksi[\"Harga Prediksi\"], label=\"Harga Prediksi\", color=\"r\")\n",
        "plt.legend()\n",
        "plt.xlabel('Sample ID')\n",
        "plt.ylabel('Harga Rumah')\n",
        "plt.title('Prediksi Harga Rumah - OLS Regression')\n",
        "plt.grid(True)\n",
        "plt.show()"
      ],
      "metadata": {
        "colab": {
          "base_uri": "https://localhost:8080/",
          "height": 564
        },
        "id": "7U_JWYn1FWR1",
        "outputId": "7836bc62-a15d-4f5b-dba0-8cd2f3d2e418"
      },
      "execution_count": null,
      "outputs": [
        {
          "output_type": "display_data",
          "data": {
            "text/plain": [
              "<Figure size 1200x600 with 1 Axes>"
            ],
            "image/png": "[encoded data removed]"
          },
          "metadata": {}
        }
      ]
    },
    {
      "cell_type": "code",
      "source": [
        "hasil_prediksi.head()"
      ],
      "metadata": {
        "colab": {
          "base_uri": "https://localhost:8080/",
          "height": 206
        },
        "id": "0otKW_TbFXfZ",
        "outputId": "f3d3a74b-5b14-4df1-ad29-b5a84bf2f3ea"
      },
      "execution_count": null,
      "outputs": [
        {
          "output_type": "execute_result",
          "data": {
            "text/plain": [
              "  Nama Properti     Harga Real  Harga Prediksi          ERROR  \\\n",
              "0       Rumah_1  206428.077797   361172.132330 -154744.054533   \n",
              "1       Rumah_2  399967.876819   457499.210065  -57531.333245   \n",
              "2       Rumah_3  287664.404544   306877.330899  -19212.926355   \n",
              "3       Rumah_4  378756.840990   453175.588432  -74418.747442   \n",
              "4       Rumah_5  374069.320891   298363.909675   75705.411215   \n",
              "\n",
              "   PERSEN PREDIKSI     PERSEN  \n",
              "0         0.250373  25.037303  \n",
              "1         0.856160  85.616012  \n",
              "2         0.933211  93.321062  \n",
              "3         0.803518  80.351841  \n",
              "4         0.797617  79.761663  "
            ],
            "text/html": [
              "\n",
              "  <div id=\"df-debec7e6-b902-45e9-bcf5-05bd1cbba149\" class=\"colab-df-container\">\n",
              "    <div>\n",
              "<style scoped>\n",
              "    .dataframe tbody tr th:only-of-type {\n",
              "        vertical-align: middle;\n",
              "    }\n",
              "\n",
              "    .dataframe tbody tr th {\n",
              "        vertical-align: top;\n",
              "    }\n",
              "\n",
              "    .dataframe thead th {\n",
              "        text-align: right;\n",
              "    }\n",
              "</style>\n",
              "<table border=\"1\" class=\"dataframe\">\n",
              "  <thead>\n",
              "    <tr style=\"text-align: right;\">\n",
              "      <th></th>\n",
              "      <th>Nama Properti</th>\n",
              "      <th>Harga Real</th>\n",
              "      <th>Harga Prediksi</th>\n",
              "      <th>ERROR</th>\n",
              "      <th>PERSEN PREDIKSI</th>\n",
              "      <th>PERSEN</th>\n",
              "    </tr>\n",
              "  </thead>\n",
              "  <tbody>\n",
              "    <tr>\n",
              "      <th>0</th>\n",
              "      <td>Rumah_1</td>\n",
              "      <td>206428.077797</td>\n",
              "      <td>361172.132330</td>\n",
              "      <td>-154744.054533</td>\n",
              "      <td>0.250373</td>\n",
              "      <td>25.037303</td>\n",
              "    </tr>\n",
              "    <tr>\n",
              "      <th>1</th>\n",
              "      <td>Rumah_2</td>\n",
              "      <td>399967.876819</td>\n",
              "      <td>457499.210065</td>\n",
              "      <td>-57531.333245</td>\n",
              "      <td>0.856160</td>\n",
              "      <td>85.616012</td>\n",
              "    </tr>\n",
              "    <tr>\n",
              "      <th>2</th>\n",
              "      <td>Rumah_3</td>\n",
              "      <td>287664.404544</td>\n",
              "      <td>306877.330899</td>\n",
              "      <td>-19212.926355</td>\n",
              "      <td>0.933211</td>\n",
              "      <td>93.321062</td>\n",
              "    </tr>\n",
              "    <tr>\n",
              "      <th>3</th>\n",
              "      <td>Rumah_4</td>\n",
              "      <td>378756.840990</td>\n",
              "      <td>453175.588432</td>\n",
              "      <td>-74418.747442</td>\n",
              "      <td>0.803518</td>\n",
              "      <td>80.351841</td>\n",
              "    </tr>\n",
              "    <tr>\n",
              "      <th>4</th>\n",
              "      <td>Rumah_5</td>\n",
              "      <td>374069.320891</td>\n",
              "      <td>298363.909675</td>\n",
              "      <td>75705.411215</td>\n",
              "      <td>0.797617</td>\n",
              "      <td>79.761663</td>\n",
              "    </tr>\n",
              "  </tbody>\n",
              "</table>\n",
              "</div>\n",
              "    <div class=\"colab-df-buttons\">\n",
              "\n",
              "  <div class=\"colab-df-container\">\n",
              "    <button class=\"colab-df-convert\" onclick=\"convertToInteractive('df-debec7e6-b902-45e9-bcf5-05bd1cbba149')\"\n",
              "            title=\"Convert this dataframe to an interactive table.\"\n",
              "            style=\"display:none;\">\n",
              "\n",
              "  <svg xmlns=\"http://www.w3.org/2000/svg\" height=\"24px\" viewBox=\"0 -960 960 960\">\n",
              "    <path d=\"M120-120v-720h720v720H120Zm60-500h600v-160H180v160Zm220 220h160v-160H400v160Zm0 220h160v-160H400v160ZM180-400h160v-160H180v160Zm440 0h160v-160H620v160ZM180-180h160v-160H180v160Zm440 0h160v-160H620v160Z\"/>\n",
              "  </svg>\n",
              "    </button>\n",
              "\n",
              "  <style>\n",
              "    .colab-df-container {\n",
              "      display:flex;\n",
              "      gap: 12px;\n",
              "    }\n",
              "\n",
              "    .colab-df-convert {\n",
              "      background-color: #E8F0FE;\n",
              "      border: none;\n",
              "      border-radius: 50%;\n",
              "      cursor: pointer;\n",
              "      display: none;\n",
              "      fill: #1967D2;\n",
              "      height: 32px;\n",
              "      padding: 0 0 0 0;\n",
              "      width: 32px;\n",
              "    }\n",
              "\n",
              "    .colab-df-convert:hover {\n",
              "      background-color: #E2EBFA;\n",
              "      box-shadow: 0px 1px 2px rgba(60, 64, 67, 0.3), 0px 1px 3px 1px rgba(60, 64, 67, 0.15);\n",
              "      fill: #174EA6;\n",
              "    }\n",
              "\n",
              "    .colab-df-buttons div {\n",
              "      margin-bottom: 4px;\n",
              "    }\n",
              "\n",
              "    [theme=dark] .colab-df-convert {\n",
              "      background-color: #3B4455;\n",
              "      fill: #D2E3FC;\n",
              "    }\n",
              "\n",
              "    [theme=dark] .colab-df-convert:hover {\n",
              "      background-color: #434B5C;\n",
              "      box-shadow: 0px 1px 3px 1px rgba(0, 0, 0, 0.15);\n",
              "      filter: drop-shadow(0px 1px 2px rgba(0, 0, 0, 0.3));\n",
              "      fill: #FFFFFF;\n",
              "    }\n",
              "  </style>\n",
              "\n",
              "    <script>\n",
              "      const buttonEl =\n",
              "        document.querySelector('#df-debec7e6-b902-45e9-bcf5-05bd1cbba149 button.colab-df-convert');\n",
              "      buttonEl.style.display =\n",
              "        google.colab.kernel.accessAllowed ? 'block' : 'none';\n",
              "\n",
              "      async function convertToInteractive(key) {\n",
              "        const element = document.querySelector('#df-debec7e6-b902-45e9-bcf5-05bd1cbba149');\n",
              "        const dataTable =\n",
              "          await google.colab.kernel.invokeFunction('convertToInteractive',\n",
              "                                                    [key], {});\n",
              "        if (!dataTable) return;\n",
              "\n",
              "        const docLinkHtml = 'Like what you see? Visit the ' +\n",
              "          '<a target=\"_blank\" href=https://colab.research.google.com/notebooks/data_table.ipynb>data table notebook</a>'\n",
              "          + ' to learn more about interactive tables.';\n",
              "        element.innerHTML = '';\n",
              "        dataTable['output_type'] = 'display_data';\n",
              "        await google.colab.output.renderOutput(dataTable, element);\n",
              "        const docLink = document.createElement('div');\n",
              "        docLink.innerHTML = docLinkHtml;\n",
              "        element.appendChild(docLink);\n",
              "      }\n",
              "    </script>\n",
              "  </div>\n",
              "\n",
              "\n",
              "<div id=\"df-f0936bb1-78d2-438d-a95e-e1b1de44d910\">\n",
              "  <button class=\"colab-df-quickchart\" onclick=\"quickchart('df-f0936bb1-78d2-438d-a95e-e1b1de44d910')\"\n",
              "            title=\"Suggest charts\"\n",
              "            style=\"display:none;\">\n",
              "\n",
              "<svg xmlns=\"http://www.w3.org/2000/svg\" height=\"24px\"viewBox=\"0 0 24 24\"\n",
              "     width=\"24px\">\n",
              "    <g>\n",
              "        <path d=\"M19 3H5c-1.1 0-2 .9-2 2v14c0 1.1.9 2 2 2h14c1.1 0 2-.9 2-2V5c0-1.1-.9-2-2-2zM9 17H7v-7h2v7zm4 0h-2V7h2v10zm4 0h-2v-4h2v4z\"/>\n",
              "    </g>\n",
              "</svg>\n",
              "  </button>\n",
              "\n",
              "<style>\n",
              "  .colab-df-quickchart {\n",
              "      --bg-color: #E8F0FE;\n",
              "      --fill-color: #1967D2;\n",
              "      --hover-bg-color: #E2EBFA;\n",
              "      --hover-fill-color: #174EA6;\n",
              "      --disabled-fill-color: #AAA;\n",
              "      --disabled-bg-color: #DDD;\n",
              "  }\n",
              "\n",
              "  [theme=dark] .colab-df-quickchart {\n",
              "      --bg-color: #3B4455;\n",
              "      --fill-color: #D2E3FC;\n",
              "      --hover-bg-color: #434B5C;\n",
              "      --hover-fill-color: #FFFFFF;\n",
              "      --disabled-bg-color: #3B4455;\n",
              "      --disabled-fill-color: #666;\n",
              "  }\n",
              "\n",
              "  .colab-df-quickchart {\n",
              "    background-color: var(--bg-color);\n",
              "    border: none;\n",
              "    border-radius: 50%;\n",
              "    cursor: pointer;\n",
              "    display: none;\n",
              "    fill: var(--fill-color);\n",
              "    height: 32px;\n",
              "    padding: 0;\n",
              "    width: 32px;\n",
              "  }\n",
              "\n",
              "  .colab-df-quickchart:hover {\n",
              "    background-color: var(--hover-bg-color);\n",
              "    box-shadow: 0 1px 2px rgba(60, 64, 67, 0.3), 0 1px 3px 1px rgba(60, 64, 67, 0.15);\n",
              "    fill: var(--button-hover-fill-color);\n",
              "  }\n",
              "\n",
              "  .colab-df-quickchart-complete:disabled,\n",
              "  .colab-df-quickchart-complete:disabled:hover {\n",
              "    background-color: var(--disabled-bg-color);\n",
              "    fill: var(--disabled-fill-color);\n",
              "    box-shadow: none;\n",
              "  }\n",
              "\n",
              "  .colab-df-spinner {\n",
              "    border: 2px solid var(--fill-color);\n",
              "    border-color: transparent;\n",
              "    border-bottom-color: var(--fill-color);\n",
              "    animation:\n",
              "      spin 1s steps(1) infinite;\n",
              "  }\n",
              "\n",
              "  @keyframes spin {\n",
              "    0% {\n",
              "      border-color: transparent;\n",
              "      border-bottom-color: var(--fill-color);\n",
              "      border-left-color: var(--fill-color);\n",
              "    }\n",
              "    20% {\n",
              "      border-color: transparent;\n",
              "      border-left-color: var(--fill-color);\n",
              "      border-top-color: var(--fill-color);\n",
              "    }\n",
              "    30% {\n",
              "      border-color: transparent;\n",
              "      border-left-color: var(--fill-color);\n",
              "      border-top-color: var(--fill-color);\n",
              "      border-right-color: var(--fill-color);\n",
              "    }\n",
              "    40% {\n",
              "      border-color: transparent;\n",
              "      border-right-color: var(--fill-color);\n",
              "      border-top-color: var(--fill-color);\n",
              "    }\n",
              "    60% {\n",
              "      border-color: transparent;\n",
              "      border-right-color: var(--fill-color);\n",
              "    }\n",
              "    80% {\n",
              "      border-color: transparent;\n",
              "      border-right-color: var(--fill-color);\n",
              "      border-bottom-color: var(--fill-color);\n",
              "    }\n",
              "    90% {\n",
              "      border-color: transparent;\n",
              "      border-bottom-color: var(--fill-color);\n",
              "    }\n",
              "  }\n",
              "</style>\n",
              "\n",
              "  <script>\n",
              "    async function quickchart(key) {\n",
              "      const quickchartButtonEl =\n",
              "        document.querySelector('#' + key + ' button');\n",
              "      quickchartButtonEl.disabled = true;  // To prevent multiple clicks.\n",
              "      quickchartButtonEl.classList.add('colab-df-spinner');\n",
              "      try {\n",
              "        const charts = await google.colab.kernel.invokeFunction(\n",
              "            'suggestCharts', [key], {});\n",
              "      } catch (error) {\n",
              "        console.error('Error during call to suggestCharts:', error);\n",
              "      }\n",
              "      quickchartButtonEl.classList.remove('colab-df-spinner');\n",
              "      quickchartButtonEl.classList.add('colab-df-quickchart-complete');\n",
              "    }\n",
              "    (() => {\n",
              "      let quickchartButtonEl =\n",
              "        document.querySelector('#df-f0936bb1-78d2-438d-a95e-e1b1de44d910 button');\n",
              "      quickchartButtonEl.style.display =\n",
              "        google.colab.kernel.accessAllowed ? 'block' : 'none';\n",
              "    })();\n",
              "  </script>\n",
              "</div>\n",
              "\n",
              "    </div>\n",
              "  </div>\n"
            ],
            "application/vnd.google.colaboratory.intrinsic+json": {
              "type": "dataframe",
              "variable_name": "hasil_prediksi",
              "summary": "{\n  \"name\": \"hasil_prediksi\",\n  \"rows\": 20,\n  \"fields\": [\n    {\n      \"column\": \"Nama Properti\",\n      \"properties\": {\n        \"dtype\": \"string\",\n        \"num_unique_values\": 20,\n        \"samples\": [\n          \"Rumah_1\",\n          \"Rumah_18\",\n          \"Rumah_16\"\n        ],\n        \"semantic_type\": \"\",\n        \"description\": \"\"\n      }\n    },\n    {\n      \"column\": \"Harga Real\",\n      \"properties\": {\n        \"dtype\": \"number\",\n        \"std\": 97525.15847648252,\n        \"min\": 206428.07779709,\n        \"max\": 620819.476070259,\n        \"num_unique_values\": 20,\n        \"samples\": [\n          206428.07779709,\n          532682.2357899809,\n          365060.8729653468\n        ],\n        \"semantic_type\": \"\",\n        \"description\": \"\"\n      }\n    },\n    {\n      \"column\": \"Harga Prediksi\",\n      \"properties\": {\n        \"dtype\": \"number\",\n        \"std\": 97641.39576032304,\n        \"min\": 271809.5415315809,\n        \"max\": 631244.3979824149,\n        \"num_unique_values\": 20,\n        \"samples\": [\n          361172.13233011746,\n          560283.6798326402,\n          409744.0997933141\n        ],\n        \"semantic_type\": \"\",\n        \"description\": \"\"\n      }\n    },\n    {\n      \"column\": \"ERROR\",\n      \"properties\": {\n        \"dtype\": \"number\",\n        \"std\": 56220.764823304664,\n        \"min\": -154744.05453302746,\n        \"max\": 75705.41121547972,\n        \"num_unique_values\": 20,\n        \"samples\": [\n          -154744.05453302746,\n          -27601.444042659365,\n          -44683.22682796733\n        ],\n        \"semantic_type\": \"\",\n        \"description\": \"\"\n      }\n    },\n    {\n      \"column\": \"PERSEN PREDIKSI\",\n      \"properties\": {\n        \"dtype\": \"number\",\n        \"std\": 0.16671430907407347,\n        \"min\": 0.25037302975259845,\n        \"max\": 0.9982767485151635,\n        \"num_unique_values\": 20,\n        \"samples\": [\n          0.25037302975259845,\n          0.9481840350810165,\n          0.8776006136592763\n        ],\n        \"semantic_type\": \"\",\n        \"description\": \"\"\n      }\n    },\n    {\n      \"column\": \"PERSEN\",\n      \"properties\": {\n        \"dtype\": \"number\",\n        \"std\": 16.67143090740735,\n        \"min\": 25.037302975259845,\n        \"max\": 99.82767485151635,\n        \"num_unique_values\": 20,\n        \"samples\": [\n          25.037302975259845,\n          94.81840350810164,\n          87.76006136592763\n        ],\n        \"semantic_type\": \"\",\n        \"description\": \"\"\n      }\n    }\n  ]\n}"
            }
          },
          "metadata": {},
          "execution_count": 15
        }
      ]
    }
  ]
}