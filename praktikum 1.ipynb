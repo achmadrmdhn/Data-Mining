{
  "nbformat": 4,
  "nbformat_minor": 0,
  "metadata": {
    "colab": {
      "provenance": []
    },
    "kernelspec": {
      "name": "python3",
      "display_name": "Python 3"
    },
    "language_info": {
      "name": "python"
    }
  },
  "cells": [
    {
      "cell_type": "markdown",
      "source": [
        "**Object Creation**"
      ],
      "metadata": {
        "id": "1NKExTUdKEKN"
      }
    },
    {
      "cell_type": "code",
      "execution_count": null,
      "metadata": {
        "colab": {
          "base_uri": "https://localhost:8080/"
        },
        "id": "LfDSZSjdBJDn",
        "outputId": "e43133f5-04ce-43e9-baa6-a9222db80846"
      },
      "outputs": [
        {
          "output_type": "stream",
          "name": "stdout",
          "text": [
            "Object Creation\n",
            "Series:\n",
            "0    1.0\n",
            "1    3.0\n",
            "2    5.0\n",
            "3    NaN\n",
            "4    6.0\n",
            "5    8.0\n",
            "dtype: float64\n",
            "\n",
            "DataFrame:\n",
            "                   A         B         C         D\n",
            "2023-10-01 -0.015706 -0.364665  0.980491  0.316182\n",
            "2023-10-02 -1.326376 -1.158138 -0.773681  0.507558\n",
            "2023-10-03  0.147385  2.054944 -0.039220  1.697535\n",
            "2023-10-04 -1.222786  0.566440 -1.004924  2.002044\n",
            "2023-10-05  0.250083  2.046404  0.225129  0.326540\n",
            "2023-10-06  0.020179 -0.592925 -1.441358  0.740470\n",
            "==================================================\n"
          ]
        }
      ],
      "source": [
        "import pandas as pd\n",
        "import numpy as np\n",
        "\n",
        "# Object Creation\n",
        "s = pd.Series([1, 3, 5, np.nan, 6, 8])\n",
        "dates = pd.date_range('2023-10-01', periods=6)\n",
        "df = pd.DataFrame(np.random.randn(6, 4), index=dates, columns=list('ABCD'))\n",
        "\n",
        "print(\"Object Creation\")\n",
        "print(\"Series:\")\n",
        "print(s)\n",
        "print(\"\\nDataFrame:\")\n",
        "print(df)\n",
        "print(\"=\"*50)"
      ]
    },
    {
      "cell_type": "markdown",
      "source": [
        "**Viewing Data**"
      ],
      "metadata": {
        "id": "V6MvHjM0KL1M"
      }
    },
    {
      "cell_type": "code",
      "source": [
        "# Viewing Data\n",
        "print(\"Viewing Data:\")\n",
        "print(\"First 3 rows:\")\n",
        "print(df.head(3))\n",
        "print(\"\\nLast 2 rows:\")\n",
        "print(df.tail(2))\n",
        "print(\"\\nIndex and Columns:\")\n",
        "print(df.index)\n",
        "print(df.columns)\n",
        "print(\"=\"*40)"
      ],
      "metadata": {
        "colab": {
          "base_uri": "https://localhost:8080/"
        },
        "id": "yjWZukSBC-9A",
        "outputId": "68a3c5ba-1762-4395-9db1-d335449bbf54"
      },
      "execution_count": null,
      "outputs": [
        {
          "output_type": "stream",
          "name": "stdout",
          "text": [
            "Viewing Data:\n",
            "First 3 rows:\n",
            "                   A         B         C         D\n",
            "2023-10-01 -0.015706 -0.364665  0.980491  0.316182\n",
            "2023-10-02 -1.326376 -1.158138 -0.773681  0.507558\n",
            "2023-10-03  0.147385  2.054944 -0.039220  1.697535\n",
            "\n",
            "Last 2 rows:\n",
            "                   A         B         C        D\n",
            "2023-10-05  0.250083  2.046404  0.225129  0.32654\n",
            "2023-10-06  0.020179 -0.592925 -1.441358  0.74047\n",
            "\n",
            "Index and Columns:\n",
            "DatetimeIndex(['2023-10-01', '2023-10-02', '2023-10-03', '2023-10-04',\n",
            "               '2023-10-05', '2023-10-06'],\n",
            "              dtype='datetime64[ns]', freq='D')\n",
            "Index(['A', 'B', 'C', 'D'], dtype='object')\n",
            "========================================\n"
          ]
        }
      ]
    },
    {
      "cell_type": "markdown",
      "source": [
        "**Selection**"
      ],
      "metadata": {
        "id": "NkPlpcPRKULg"
      }
    },
    {
      "cell_type": "code",
      "source": [
        "# Selection\n",
        "print(\"Selection:\")\n",
        "print(\"Selecting a column (A):\")\n",
        "print(df['A'])\n",
        "print(\"\\nSelecting by label (row 0):\")\n",
        "print(df.loc[dates[0]])\n",
        "print(\"\\nSelecting by position (row 1):\")\n",
        "print(df.iloc[1])\n",
        "print(\"nSelecting a subset of rows and columns:\")\n",
        "print(df.loc[dates[1:3], ['A', 'B']])\n",
        "print(\"=\"*40)"
      ],
      "metadata": {
        "colab": {
          "base_uri": "https://localhost:8080/"
        },
        "id": "RFwAACk9FaOe",
        "outputId": "07655cad-ae92-46e9-9c64-65cea2cf53f3"
      },
      "execution_count": null,
      "outputs": [
        {
          "output_type": "stream",
          "name": "stdout",
          "text": [
            "Selection:\n",
            "Selecting a column (A):\n",
            "2023-10-01   -0.015706\n",
            "2023-10-02   -1.326376\n",
            "2023-10-03    0.147385\n",
            "2023-10-04   -1.222786\n",
            "2023-10-05    0.250083\n",
            "2023-10-06    0.020179\n",
            "Freq: D, Name: A, dtype: float64\n",
            "\n",
            "Selecting by label (row 0):\n",
            "A   -0.015706\n",
            "B   -0.364665\n",
            "C    0.980491\n",
            "D    0.316182\n",
            "Name: 2023-10-01 00:00:00, dtype: float64\n",
            "\n",
            "Selecting by position (row 1):\n",
            "A   -1.326376\n",
            "B   -1.158138\n",
            "C   -0.773681\n",
            "D    0.507558\n",
            "Name: 2023-10-02 00:00:00, dtype: float64\n",
            "nSelecting a subset of rows and columns:\n",
            "                   A         B\n",
            "2023-10-02 -1.326376 -1.158138\n",
            "2023-10-03  0.147385  2.054944\n",
            "========================================\n"
          ]
        }
      ]
    },
    {
      "cell_type": "markdown",
      "source": [
        "**Missing Data**"
      ],
      "metadata": {
        "id": "lMRak-ZlKYHa"
      }
    },
    {
      "cell_type": "code",
      "source": [
        "# Missing Data\n",
        "df1 = df.reindex(index=dates[0:4], columns=list(df.columns) + ['E'])\n",
        "df1.loc[dates[0]:dates[1], 'E'] = 1\n",
        "\n",
        "print(\"Missing Data:\")\n",
        "print(\"DataFrame with missing values:\")\n",
        "print(df1)\n",
        "print(\"\\nDropping rows with missing values:\")\n",
        "print(df1.dropna())\n",
        "print(\"\\nFilling rows with missing values:\")\n",
        "print(df1.fillna(value=0))\n",
        "print(\"=\"*60)"
      ],
      "metadata": {
        "colab": {
          "base_uri": "https://localhost:8080/"
        },
        "id": "kciY2m0LHwRF",
        "outputId": "9a566bd6-5f8d-4098-a3ed-31acf80fd0d9"
      },
      "execution_count": null,
      "outputs": [
        {
          "output_type": "stream",
          "name": "stdout",
          "text": [
            "Missing Data:\n",
            "DataFrame with missing values:\n",
            "                   A         B         C         D    E\n",
            "2023-10-01 -0.015706 -0.364665  0.980491  0.316182  1.0\n",
            "2023-10-02 -1.326376 -1.158138 -0.773681  0.507558  1.0\n",
            "2023-10-03  0.147385  2.054944 -0.039220  1.697535  NaN\n",
            "2023-10-04 -1.222786  0.566440 -1.004924  2.002044  NaN\n",
            "\n",
            "Dropping rows with missing values:\n",
            "                   A         B         C         D    E\n",
            "2023-10-01 -0.015706 -0.364665  0.980491  0.316182  1.0\n",
            "2023-10-02 -1.326376 -1.158138 -0.773681  0.507558  1.0\n",
            "\n",
            "Filling rows with missing values:\n",
            "                   A         B         C         D    E\n",
            "2023-10-01 -0.015706 -0.364665  0.980491  0.316182  1.0\n",
            "2023-10-02 -1.326376 -1.158138 -0.773681  0.507558  1.0\n",
            "2023-10-03  0.147385  2.054944 -0.039220  1.697535  0.0\n",
            "2023-10-04 -1.222786  0.566440 -1.004924  2.002044  0.0\n",
            "============================================================\n"
          ]
        }
      ]
    },
    {
      "cell_type": "markdown",
      "source": [
        "**Operations**"
      ],
      "metadata": {
        "id": "bVDdJ9HGKajj"
      }
    },
    {
      "cell_type": "code",
      "source": [
        "# Operations\n",
        "# Menghitung Rata-Rata\n",
        "print(\"Operations\")\n",
        "print(\"Mean of each column:\")\n",
        "print(df.mean())\n",
        "print(\"\\nSum of each row:\")\n",
        "print(df.sum(axis=1))\n",
        "print(\"=\"*40)"
      ],
      "metadata": {
        "colab": {
          "base_uri": "https://localhost:8080/"
        },
        "id": "ko6mPef3J0it",
        "outputId": "6b7a72f7-af51-4f73-bf1a-92c0d4aaf7ed"
      },
      "execution_count": null,
      "outputs": [
        {
          "output_type": "stream",
          "name": "stdout",
          "text": [
            "Operations\n",
            "Mean of each column:\n",
            "A   -0.357870\n",
            "B    0.425343\n",
            "C   -0.342261\n",
            "D    0.931721\n",
            "dtype: float64\n",
            "\n",
            "Sum of each row:\n",
            "2023-10-01    0.916301\n",
            "2023-10-02   -2.750637\n",
            "2023-10-03    3.860645\n",
            "2023-10-04    0.340773\n",
            "2023-10-05    2.848156\n",
            "2023-10-06   -1.273634\n",
            "Freq: D, dtype: float64\n",
            "========================================\n"
          ]
        }
      ]
    },
    {
      "cell_type": "code",
      "source": [
        "# Menggabung 2 DataFrame\n",
        "# Merge\n",
        "left = pd.DataFrame({'key': ['K0', 'K1', 'K2', 'K3'], 'A': ['A0', 'A1', 'A2', 'A3'],\n",
        "                     'B': ['B0', 'B1', 'B2', 'B3']})\n",
        "right = pd.DataFrame({'key': ['K0', 'K1', 'K2', 'K3'], 'C': ['C0', 'C1', 'C2', 'C3'],\n",
        "                      'D': ['D0', 'D1', 'D2', 'D3']})\n",
        "merged_df = pd.merge(left, right, on='key')\n",
        "\n",
        "print(\"Merge:\")\n",
        "print(\"Merged DataFrame:\")\n",
        "print(merged_df)\n",
        "print(\"=\"*40)"
      ],
      "metadata": {
        "colab": {
          "base_uri": "https://localhost:8080/"
        },
        "id": "AlnoTS4tKz2Q",
        "outputId": "f14c3af5-44cb-4af2-ca20-f735348db743"
      },
      "execution_count": null,
      "outputs": [
        {
          "output_type": "stream",
          "name": "stdout",
          "text": [
            "Merge:\n",
            "Merged DataFrame:\n",
            "  key   A   B   C   D\n",
            "0  K0  A0  B0  C0  D0\n",
            "1  K1  A1  B1  C1  D1\n",
            "2  K2  A2  B2  C2  D2\n",
            "3  K3  A3  B3  C3  D3\n",
            "========================================\n"
          ]
        }
      ]
    },
    {
      "cell_type": "code",
      "source": [
        "# Mengelompokan Data dan Operasi Agregasi\n",
        "# Grouping\n",
        "grouped = df.groupby('A').sum()\n",
        "print(\"Grouping\")\n",
        "print(\"Grouped DataFrame\")\n",
        "print(grouped)\n",
        "print(\"=\"*40)"
      ],
      "metadata": {
        "colab": {
          "base_uri": "https://localhost:8080/"
        },
        "id": "9rVGLT1HMY3s",
        "outputId": "7f7ac77f-e41f-41b5-8c49-108d87aeb21b"
      },
      "execution_count": null,
      "outputs": [
        {
          "output_type": "stream",
          "name": "stdout",
          "text": [
            "Grouping\n",
            "Grouped DataFrame\n",
            "                  B         C         D\n",
            "A                                      \n",
            "-1.326376 -1.158138 -0.773681  0.507558\n",
            "-1.222786  0.566440 -1.004924  2.002044\n",
            "-0.015706 -0.364665  0.980491  0.316182\n",
            " 0.020179 -0.592925 -1.441358  0.740470\n",
            " 0.147385  2.054944 -0.039220  1.697535\n",
            " 0.250083  2.046404  0.225129  0.326540\n",
            "========================================\n"
          ]
        }
      ]
    },
    {
      "cell_type": "code",
      "source": [
        "# Menggunakan Fungsi Tumpukan (Stack)\n",
        "# Reshaping\n",
        "stacked = df.stack()\n",
        "unstacked = stacked.unstack()\n",
        "\n",
        "print(\"Reshaping:\")\n",
        "print(\"Stacked DataFrame:\")\n",
        "print(stacked)\n",
        "print(\"\\nUnstacked DataFrame:\")\n",
        "print(unstacked)\n",
        "print(\"=\"*40)"
      ],
      "metadata": {
        "colab": {
          "base_uri": "https://localhost:8080/"
        },
        "id": "2FVQoYTuMs80",
        "outputId": "9ae130e7-ae20-44fd-cb60-90c5976f0805"
      },
      "execution_count": null,
      "outputs": [
        {
          "output_type": "stream",
          "name": "stdout",
          "text": [
            "Reshaping:\n",
            "Stacked DataFrame:\n",
            "2023-10-01  A   -0.015706\n",
            "            B   -0.364665\n",
            "            C    0.980491\n",
            "            D    0.316182\n",
            "2023-10-02  A   -1.326376\n",
            "            B   -1.158138\n",
            "            C   -0.773681\n",
            "            D    0.507558\n",
            "2023-10-03  A    0.147385\n",
            "            B    2.054944\n",
            "            C   -0.039220\n",
            "            D    1.697535\n",
            "2023-10-04  A   -1.222786\n",
            "            B    0.566440\n",
            "            C   -1.004924\n",
            "            D    2.002044\n",
            "2023-10-05  A    0.250083\n",
            "            B    2.046404\n",
            "            C    0.225129\n",
            "            D    0.326540\n",
            "2023-10-06  A    0.020179\n",
            "            B   -0.592925\n",
            "            C   -1.441358\n",
            "            D    0.740470\n",
            "dtype: float64\n",
            "\n",
            "Unstacked DataFrame:\n",
            "                   A         B         C         D\n",
            "2023-10-01 -0.015706 -0.364665  0.980491  0.316182\n",
            "2023-10-02 -1.326376 -1.158138 -0.773681  0.507558\n",
            "2023-10-03  0.147385  2.054944 -0.039220  1.697535\n",
            "2023-10-04 -1.222786  0.566440 -1.004924  2.002044\n",
            "2023-10-05  0.250083  2.046404  0.225129  0.326540\n",
            "2023-10-06  0.020179 -0.592925 -1.441358  0.740470\n",
            "========================================\n"
          ]
        }
      ]
    },
    {
      "cell_type": "markdown",
      "source": [
        "**Data Time Series**"
      ],
      "metadata": {
        "id": "8nmfSy6GOANI"
      }
    },
    {
      "cell_type": "code",
      "source": [
        "# Time Series\n",
        "ts = pd.Series(np.random.randn(1000), index=pd.date_range('2023-01-01', periods=1000))\n",
        "cumulative_sum = ts.cumsum()\n",
        "\n",
        "print(\"Time Series:\")\n",
        "print(ts.head())\n",
        "print(\"\\nCumulative Sum:\")\n",
        "print(cumulative_sum.head())\n",
        "print(\"=\"*40)"
      ],
      "metadata": {
        "colab": {
          "base_uri": "https://localhost:8080/"
        },
        "id": "C8VSLDpxN-Eu",
        "outputId": "ff9692ba-addc-4075-c78f-0a93e3ebefdb"
      },
      "execution_count": null,
      "outputs": [
        {
          "output_type": "stream",
          "name": "stdout",
          "text": [
            "Time Series:\n",
            "2023-01-01   -1.049269\n",
            "2023-01-02   -0.269462\n",
            "2023-01-03    1.224495\n",
            "2023-01-04    1.192972\n",
            "2023-01-05   -0.467098\n",
            "Freq: D, dtype: float64\n",
            "\n",
            "Cumulative Sum:\n",
            "2023-01-01   -1.049269\n",
            "2023-01-02   -1.318731\n",
            "2023-01-03   -0.094236\n",
            "2023-01-04    1.098736\n",
            "2023-01-05    0.631638\n",
            "Freq: D, dtype: float64\n",
            "========================================\n"
          ]
        }
      ]
    },
    {
      "cell_type": "markdown",
      "source": [
        "**Data Kategorikal**"
      ],
      "metadata": {
        "id": "mTwfr3aMOfwL"
      }
    },
    {
      "cell_type": "code",
      "source": [
        "# Categories\n",
        "import pandas as pd\n",
        "\n",
        "# Create a categorial Series\n",
        "s = pd.Series([\"cat\", \"dog\", \"bird\", \"cat\", \"dog\"], dtype=\"category\")\n",
        "\n",
        "# Define new categories\n",
        "new_categories = [\"Category 1\", \"Category 2\", \"Category 3\"]\n",
        "\n",
        "# Create a new categorical Series with the new categories\n",
        "s_new = s.cat.set_categories(new_categories)\n",
        "\n",
        "print(\"Categoricals:\")\n",
        "print(\"Original Categorical Series:\")\n",
        "print(s)\n",
        "print(\"\\nNew Categorical Series with updated categories:\")\n",
        "print(s_new)"
      ],
      "metadata": {
        "colab": {
          "base_uri": "https://localhost:8080/"
        },
        "id": "FiipTnUYOic1",
        "outputId": "68bfef9a-dcb7-46f6-bff7-5ac5d233e76f"
      },
      "execution_count": null,
      "outputs": [
        {
          "output_type": "stream",
          "name": "stdout",
          "text": [
            "Categoricals:\n",
            "Original Categorical Series:\n",
            "0     cat\n",
            "1     dog\n",
            "2    bird\n",
            "3     cat\n",
            "4     dog\n",
            "dtype: category\n",
            "Categories (3, object): ['bird', 'cat', 'dog']\n",
            "\n",
            "New Categorical Series with updated categories:\n",
            "0    NaN\n",
            "1    NaN\n",
            "2    NaN\n",
            "3    NaN\n",
            "4    NaN\n",
            "dtype: category\n",
            "Categories (3, object): ['Category 1', 'Category 2', 'Category 3']\n"
          ]
        }
      ]
    },
    {
      "cell_type": "markdown",
      "source": [
        "**Plotting**"
      ],
      "metadata": {
        "id": "6kGAaycOPfEH"
      }
    },
    {
      "cell_type": "code",
      "source": [
        "import matplotlib.pyplot as plt\n",
        "# Plotting\n",
        "df.plot()\n",
        "plt.show()\n",
        "\n",
        "print(\"Plotting:\")\n",
        "print(\"=\"*40)"
      ],
      "metadata": {
        "colab": {
          "base_uri": "https://localhost:8080/",
          "height": 499
        },
        "id": "GKp0hZc2PgcT",
        "outputId": "c694a73d-fb59-401c-8eb1-ad196c3f0dc7"
      },
      "execution_count": null,
      "outputs": [
        {
          "output_type": "display_data",
          "data": {
            "text/plain": [
              "<Figure size 640x480 with 1 Axes>"
            ],
            "image/png": "[encoded data removed]"
          },
          "metadata": {}
        },
        {
          "output_type": "stream",
          "name": "stdout",
          "text": [
            "Plotting:\n",
            "========================================\n"
          ]
        }
      ]
    },
    {
      "cell_type": "markdown",
      "source": [
        "**Importing and Exporting Data:**"
      ],
      "metadata": {
        "id": "HQbj4y6KP3UX"
      }
    },
    {
      "cell_type": "code",
      "source": [
        "# Importing and Exporting Data\n",
        "imported_df = pd.read_csv('/content/drive/MyDrive/Colab Notebooks/Data/sample_data.csv')\n",
        "\n",
        "print(\"Importing and Exporting Data:\")\n",
        "print(\"Exported DataFrame to CSV:\")\n",
        "print(df)\n",
        "print(\"\\nImported DataFrame from CSV:\")\n",
        "print(imported_df)\n",
        "print(\"=\"*40)\n",
        "df.to_csv('/content/drive/MyDrive/Colab Notebooks/Data/sample_data.csv')"
      ],
      "metadata": {
        "colab": {
          "base_uri": "https://localhost:8080/"
        },
        "id": "qRfbfqhCP6_D",
        "outputId": "8c4f7bcb-630d-481c-afdb-22f63808aba1"
      },
      "execution_count": null,
      "outputs": [
        {
          "output_type": "stream",
          "name": "stdout",
          "text": [
            "Importing and Exporting Data:\n",
            "Exported DataFrame to CSV:\n",
            "                   A         B         C         D\n",
            "2023-10-01 -0.015706 -0.364665  0.980491  0.316182\n",
            "2023-10-02 -1.326376 -1.158138 -0.773681  0.507558\n",
            "2023-10-03  0.147385  2.054944 -0.039220  1.697535\n",
            "2023-10-04 -1.222786  0.566440 -1.004924  2.002044\n",
            "2023-10-05  0.250083  2.046404  0.225129  0.326540\n",
            "2023-10-06  0.020179 -0.592925 -1.441358  0.740470\n",
            "\n",
            "Imported DataFrame from CSV:\n",
            "   Unnamed: 0         A         B         C         D\n",
            "0  2023-10-01 -0.015706 -0.364665  0.980491  0.316182\n",
            "1  2023-10-02 -1.326376 -1.158138 -0.773681  0.507558\n",
            "2  2023-10-03  0.147385  2.054944 -0.039220  1.697535\n",
            "3  2023-10-04 -1.222786  0.566440 -1.004924  2.002044\n",
            "4  2023-10-05  0.250083  2.046404  0.225129  0.326540\n",
            "5  2023-10-06  0.020179 -0.592925 -1.441358  0.740470\n",
            "========================================\n"
          ]
        }
      ]
    }
  ]
}