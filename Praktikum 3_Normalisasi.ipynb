{
 "cells": [
  {
   "cell_type": "code",
   "execution_count": 3,
   "id": "9d736602-3d6f-4b5d-bfc3-1098a4e99035",
   "metadata": {},
   "outputs": [
    {
     "name": "stdout",
     "output_type": "stream",
     "text": [
      "Data Asli:\n",
      "[[2. 5.]\n",
      " [1. 4.]\n",
      " [3. 6.]]\n",
      "\n",
      "Data setelah Min-Max Scaling:\n",
      "[[0.5 0.5]\n",
      " [0.  0. ]\n",
      " [1.  1. ]]\n"
     ]
    }
   ],
   "source": [
    "import numpy as np\n",
    "from sklearn.preprocessing import MinMaxScaler\n",
    "\n",
    "# Data contoh (ganti dengan data anda)\n",
    "data = np.array([[2.0, 5.0],\n",
    "               [1.0, 4.0],\n",
    "               [3.0, 6.0]])\n",
    "\n",
    "# Inisialisasi objek MinMaxScaler\n",
    "scaler = MinMaxScaler()\n",
    "\n",
    "# Fit dan transformasi data meneggunakan Min-Max Scaling\n",
    "scaled_data = scaler.fit_transform(data)\n",
    "\n",
    "print(\"Data Asli:\")\n",
    "print(data)\n",
    "\n",
    "print(\"\\nData setelah Min-Max Scaling:\")\n",
    "print(scaled_data)"
   ]
  },
  {
   "cell_type": "code",
   "execution_count": 4,
   "id": "a942d46b-4cf3-4303-988f-5df7c1b130dd",
   "metadata": {},
   "outputs": [
    {
     "name": "stdout",
     "output_type": "stream",
     "text": [
      "Data Asli:\n",
      "[[2. 5.]\n",
      " [1. 4.]\n",
      " [3. 6.]]\n",
      "\n",
      "Data setelah Z-Score Transformation:\n",
      "[[ 0.          0.        ]\n",
      " [-1.22474487 -1.22474487]\n",
      " [ 1.22474487  1.22474487]]\n"
     ]
    }
   ],
   "source": [
    "import numpy as np\n",
    "from sklearn.preprocessing import StandardScaler\n",
    "\n",
    "# Data contoh (ganti dengan data anda)\n",
    "data = np.array ([[2.0, 5.0],\n",
    "                 [1.0, 4.0],\n",
    "                 [3.0, 6.0]])\n",
    "\n",
    "# Inisialisasi objek StandardScaler\n",
    "scaler = StandardScaler()\n",
    "\n",
    "# Fit dan transformasi data menggunakan Z-Score Transformation\n",
    "z_score_data = scaler.fit_transform(data)\n",
    "\n",
    "print(\"Data Asli:\")\n",
    "print(data)\n",
    "\n",
    "print(\"\\nData setelah Z-Score Transformation:\")\n",
    "print(z_score_data)"
   ]
  },
  {
   "cell_type": "code",
   "execution_count": 5,
   "id": "6ddd5a58-df99-4fe7-97c1-b414841d1b16",
   "metadata": {},
   "outputs": [
    {
     "name": "stdout",
     "output_type": "stream",
     "text": [
      "Data Asli:\n",
      "[200 300 400 500 600]\n",
      "\n",
      "Data setelah Decimal Scaling:\n",
      "[0.2 0.3 0.4 0.5 0.6]\n"
     ]
    }
   ],
   "source": [
    "import numpy as np\n",
    "\n",
    "# Data contoh (ganti dengan data anda)\n",
    "data = np.array([200, 300, 400, 500, 600])\n",
    "\n",
    "# Menentukan faktor penggeseran (scaling factor),\n",
    "# Misalnya 1000 untuk mengubah ke rentang 0-1\n",
    "scaling_factor = 1000\n",
    "\n",
    "# Melakukan transformasi Decimal Scaling\n",
    "scaled_data = data / scaling_factor\n",
    "\n",
    "print(\"Data Asli:\")\n",
    "print(data)\n",
    "\n",
    "print(\"\\nData setelah Decimal Scaling:\")\n",
    "print(scaled_data)"
   ]
  }
 ],
 "metadata": {
  "kernelspec": {
   "display_name": "Python 3 (ipykernel)",
   "language": "python",
   "name": "python3"
  },
  "language_info": {
   "codemirror_mode": {
    "name": "ipython",
    "version": 3
   },
   "file_extension": ".py",
   "mimetype": "text/x-python",
   "name": "python",
   "nbconvert_exporter": "python",
   "pygments_lexer": "ipython3",
   "version": "3.12.3"
  }
 },
 "nbformat": 4,
 "nbformat_minor": 5
}
